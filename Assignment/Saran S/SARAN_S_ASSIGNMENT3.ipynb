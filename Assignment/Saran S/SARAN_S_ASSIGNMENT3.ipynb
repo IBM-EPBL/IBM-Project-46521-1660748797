{
  "cells": [
    {
      "cell_type": "markdown",
      "id": "4911191b",
      "metadata": {
        "id": "4911191b"
      },
      "source": [
        "# Assignment 3 : IBM-Project-9130-1658982501"
      ]
    },
    {
      "cell_type": "markdown",
      "id": "a30b4bbf",
      "metadata": {
        "id": "a30b4bbf"
      },
      "source": [
        "## Problem Statement: Abalone Age Prediction"
      ]
    },
    {
      "cell_type": "markdown",
      "id": "ea4e5ac1",
      "metadata": {
        "id": "ea4e5ac1"
      },
      "source": [
        "## Description :"
      ]
    },
    {
      "cell_type": "markdown",
      "id": "a2d25cd0",
      "metadata": {
        "id": "a2d25cd0"
      },
      "source": [
        "### Predicting the age of abalone from physical measurements. The age of abalone is determined by cutting the shell through the cone, staining it, and counting the number of rings through a microscope -- a boring and time-consuming task. Other measurements, which are easier to obtain, are used to predict age. Further information, such as weather patterns and location (hence food availability) may be required to solve the problem."
      ]
    },
    {
      "cell_type": "markdown",
      "id": "215da2ac",
      "metadata": {
        "id": "215da2ac"
      },
      "source": [
        "## Importing Modules"
      ]
    },
    {
      "cell_type": "code",
      "execution_count": null,
      "id": "5140c9e1",
      "metadata": {
        "id": "5140c9e1"
      },
      "outputs": [],
      "source": [
        "import pandas as pd\n",
        "import seaborn as sns\n",
        "import matplotlib.pyplot as plt\n",
        "import numpy as np"
      ]
    },
    {
      "cell_type": "markdown",
      "id": "e8a03fd1",
      "metadata": {
        "id": "e8a03fd1"
      },
      "source": [
        "## 1. Dataset has been downloaded"
      ]
    },
    {
      "cell_type": "code",
      "execution_count": null,
      "id": "67cb8d42",
      "metadata": {
        "id": "67cb8d42"
      },
      "outputs": [],
      "source": [
        "#Name of the dataset: abalone.csv"
      ]
    },
    {
      "cell_type": "markdown",
      "id": "6d1526d2",
      "metadata": {
        "id": "6d1526d2"
      },
      "source": [
        "## 2. Load the dataset into the tool"
      ]
    },
    {
      "cell_type": "code",
      "execution_count": null,
      "id": "56e06927",
      "metadata": {
        "id": "56e06927",
        "outputId": "2c69479f-a1cc-4b11-8b55-5ad106ce724a"
      },
      "outputs": [
        {
          "data": {
            "text/html": [
              "<div>\n",
              "<style scoped>\n",
              "    .dataframe tbody tr th:only-of-type {\n",
              "        vertical-align: middle;\n",
              "    }\n",
              "\n",
              "    .dataframe tbody tr th {\n",
              "        vertical-align: top;\n",
              "    }\n",
              "\n",
              "    .dataframe thead th {\n",
              "        text-align: right;\n",
              "    }\n",
              "</style>\n",
              "<table border=\"1\" class=\"dataframe\">\n",
              "  <thead>\n",
              "    <tr style=\"text-align: right;\">\n",
              "      <th></th>\n",
              "      <th>Sex</th>\n",
              "      <th>Length</th>\n",
              "      <th>Diameter</th>\n",
              "      <th>Height</th>\n",
              "      <th>Whole weight</th>\n",
              "      <th>Shucked weight</th>\n",
              "      <th>Viscera weight</th>\n",
              "      <th>Shell weight</th>\n",
              "      <th>Rings</th>\n",
              "    </tr>\n",
              "  </thead>\n",
              "  <tbody>\n",
              "    <tr>\n",
              "      <th>0</th>\n",
              "      <td>M</td>\n",
              "      <td>0.455</td>\n",
              "      <td>0.365</td>\n",
              "      <td>0.095</td>\n",
              "      <td>0.5140</td>\n",
              "      <td>0.2245</td>\n",
              "      <td>0.1010</td>\n",
              "      <td>0.150</td>\n",
              "      <td>15</td>\n",
              "    </tr>\n",
              "    <tr>\n",
              "      <th>1</th>\n",
              "      <td>M</td>\n",
              "      <td>0.350</td>\n",
              "      <td>0.265</td>\n",
              "      <td>0.090</td>\n",
              "      <td>0.2255</td>\n",
              "      <td>0.0995</td>\n",
              "      <td>0.0485</td>\n",
              "      <td>0.070</td>\n",
              "      <td>7</td>\n",
              "    </tr>\n",
              "    <tr>\n",
              "      <th>2</th>\n",
              "      <td>F</td>\n",
              "      <td>0.530</td>\n",
              "      <td>0.420</td>\n",
              "      <td>0.135</td>\n",
              "      <td>0.6770</td>\n",
              "      <td>0.2565</td>\n",
              "      <td>0.1415</td>\n",
              "      <td>0.210</td>\n",
              "      <td>9</td>\n",
              "    </tr>\n",
              "    <tr>\n",
              "      <th>3</th>\n",
              "      <td>M</td>\n",
              "      <td>0.440</td>\n",
              "      <td>0.365</td>\n",
              "      <td>0.125</td>\n",
              "      <td>0.5160</td>\n",
              "      <td>0.2155</td>\n",
              "      <td>0.1140</td>\n",
              "      <td>0.155</td>\n",
              "      <td>10</td>\n",
              "    </tr>\n",
              "    <tr>\n",
              "      <th>4</th>\n",
              "      <td>I</td>\n",
              "      <td>0.330</td>\n",
              "      <td>0.255</td>\n",
              "      <td>0.080</td>\n",
              "      <td>0.2050</td>\n",
              "      <td>0.0895</td>\n",
              "      <td>0.0395</td>\n",
              "      <td>0.055</td>\n",
              "      <td>7</td>\n",
              "    </tr>\n",
              "  </tbody>\n",
              "</table>\n",
              "</div>"
            ],
            "text/plain": [
              "  Sex  Length  Diameter  Height  Whole weight  Shucked weight  Viscera weight  \\\n",
              "0   M   0.455     0.365   0.095        0.5140          0.2245          0.1010   \n",
              "1   M   0.350     0.265   0.090        0.2255          0.0995          0.0485   \n",
              "2   F   0.530     0.420   0.135        0.6770          0.2565          0.1415   \n",
              "3   M   0.440     0.365   0.125        0.5160          0.2155          0.1140   \n",
              "4   I   0.330     0.255   0.080        0.2050          0.0895          0.0395   \n",
              "\n",
              "   Shell weight  Rings  \n",
              "0         0.150     15  \n",
              "1         0.070      7  \n",
              "2         0.210      9  \n",
              "3         0.155     10  \n",
              "4         0.055      7  "
            ]
          },
          "execution_count": 12,
          "metadata": {},
          "output_type": "execute_result"
        }
      ],
      "source": [
        "data=pd.read_csv(\"abalone.csv\")\n",
        "data.head()"
      ]
    },
    {
      "cell_type": "markdown",
      "id": "fb34f18a",
      "metadata": {
        "id": "fb34f18a"
      },
      "source": [
        "### Let's know the shape of the data"
      ]
    },
    {
      "cell_type": "code",
      "execution_count": null,
      "id": "dc2b0196",
      "metadata": {
        "id": "dc2b0196",
        "outputId": "ba90520f-6552-4b92-def1-7cdf38394390"
      },
      "outputs": [
        {
          "data": {
            "text/plain": [
              "(4177, 9)"
            ]
          },
          "execution_count": 13,
          "metadata": {},
          "output_type": "execute_result"
        }
      ],
      "source": [
        "data.shape"
      ]
    },
    {
      "cell_type": "markdown",
      "id": "d8b4fa1b",
      "metadata": {
        "id": "d8b4fa1b"
      },
      "source": [
        "### One additional task is that, we have to add the \"Age\" column using \"Rings\" data. We just have to add '1.5' to the ring data"
      ]
    },
    {
      "cell_type": "code",
      "execution_count": null,
      "id": "b697a97b",
      "metadata": {
        "id": "b697a97b",
        "outputId": "9885f5a7-2599-4416-b9ac-ce3b497cadd5"
      },
      "outputs": [
        {
          "data": {
            "text/html": [
              "<div>\n",
              "<style scoped>\n",
              "    .dataframe tbody tr th:only-of-type {\n",
              "        vertical-align: middle;\n",
              "    }\n",
              "\n",
              "    .dataframe tbody tr th {\n",
              "        vertical-align: top;\n",
              "    }\n",
              "\n",
              "    .dataframe thead th {\n",
              "        text-align: right;\n",
              "    }\n",
              "</style>\n",
              "<table border=\"1\" class=\"dataframe\">\n",
              "  <thead>\n",
              "    <tr style=\"text-align: right;\">\n",
              "      <th></th>\n",
              "      <th>Sex</th>\n",
              "      <th>Length</th>\n",
              "      <th>Diameter</th>\n",
              "      <th>Height</th>\n",
              "      <th>Whole_weight</th>\n",
              "      <th>Shucked_weight</th>\n",
              "      <th>Viscera_weight</th>\n",
              "      <th>Shell_weight</th>\n",
              "      <th>Age</th>\n",
              "    </tr>\n",
              "  </thead>\n",
              "  <tbody>\n",
              "    <tr>\n",
              "      <th>0</th>\n",
              "      <td>M</td>\n",
              "      <td>0.455</td>\n",
              "      <td>0.365</td>\n",
              "      <td>0.095</td>\n",
              "      <td>0.5140</td>\n",
              "      <td>0.2245</td>\n",
              "      <td>0.1010</td>\n",
              "      <td>0.150</td>\n",
              "      <td>16.5</td>\n",
              "    </tr>\n",
              "    <tr>\n",
              "      <th>1</th>\n",
              "      <td>M</td>\n",
              "      <td>0.350</td>\n",
              "      <td>0.265</td>\n",
              "      <td>0.090</td>\n",
              "      <td>0.2255</td>\n",
              "      <td>0.0995</td>\n",
              "      <td>0.0485</td>\n",
              "      <td>0.070</td>\n",
              "      <td>8.5</td>\n",
              "    </tr>\n",
              "    <tr>\n",
              "      <th>2</th>\n",
              "      <td>F</td>\n",
              "      <td>0.530</td>\n",
              "      <td>0.420</td>\n",
              "      <td>0.135</td>\n",
              "      <td>0.6770</td>\n",
              "      <td>0.2565</td>\n",
              "      <td>0.1415</td>\n",
              "      <td>0.210</td>\n",
              "      <td>10.5</td>\n",
              "    </tr>\n",
              "    <tr>\n",
              "      <th>3</th>\n",
              "      <td>M</td>\n",
              "      <td>0.440</td>\n",
              "      <td>0.365</td>\n",
              "      <td>0.125</td>\n",
              "      <td>0.5160</td>\n",
              "      <td>0.2155</td>\n",
              "      <td>0.1140</td>\n",
              "      <td>0.155</td>\n",
              "      <td>11.5</td>\n",
              "    </tr>\n",
              "    <tr>\n",
              "      <th>4</th>\n",
              "      <td>I</td>\n",
              "      <td>0.330</td>\n",
              "      <td>0.255</td>\n",
              "      <td>0.080</td>\n",
              "      <td>0.2050</td>\n",
              "      <td>0.0895</td>\n",
              "      <td>0.0395</td>\n",
              "      <td>0.055</td>\n",
              "      <td>8.5</td>\n",
              "    </tr>\n",
              "  </tbody>\n",
              "</table>\n",
              "</div>"
            ],
            "text/plain": [
              "  Sex  Length  Diameter  Height  Whole_weight  Shucked_weight  Viscera_weight  \\\n",
              "0   M   0.455     0.365   0.095        0.5140          0.2245          0.1010   \n",
              "1   M   0.350     0.265   0.090        0.2255          0.0995          0.0485   \n",
              "2   F   0.530     0.420   0.135        0.6770          0.2565          0.1415   \n",
              "3   M   0.440     0.365   0.125        0.5160          0.2155          0.1140   \n",
              "4   I   0.330     0.255   0.080        0.2050          0.0895          0.0395   \n",
              "\n",
              "   Shell_weight   Age  \n",
              "0         0.150  16.5  \n",
              "1         0.070   8.5  \n",
              "2         0.210  10.5  \n",
              "3         0.155  11.5  \n",
              "4         0.055   8.5  "
            ]
          },
          "execution_count": 14,
          "metadata": {},
          "output_type": "execute_result"
        }
      ],
      "source": [
        "Age=1.5+data.Rings\n",
        "data[\"Age\"]=Age\n",
        "data=data.rename(columns = {'Whole weight':'Whole_weight','Shucked weight': 'Shucked_weight','Viscera weight': 'Viscera_weight',\n",
        "                            'Shell weight': 'Shell_weight'})\n",
        "data=data.drop(columns=[\"Rings\"],axis=1)\n",
        "data.head()"
      ]
    },
    {
      "cell_type": "markdown",
      "id": "b8bbb46c",
      "metadata": {
        "id": "b8bbb46c"
      },
      "source": [
        "## 3. Perform Below Visualizations."
      ]
    },
    {
      "cell_type": "markdown",
      "id": "75ed979d",
      "metadata": {
        "id": "75ed979d"
      },
      "source": [
        "## (i) Univariate Analysis"
      ]
    },
    {
      "cell_type": "markdown",
      "id": "4e72b3e0",
      "metadata": {
        "id": "4e72b3e0"
      },
      "source": [
        "###\n",
        "The term univariate analysis refers to the analysis of one variable. You can remember this because the prefix “uni” means “one.” There are three common ways to perform univariate analysis on one variable: 1. Summary statistics – Measures the center and spread of values.\n",
        "###"
      ]
    },
    {
      "cell_type": "markdown",
      "id": "142752ec",
      "metadata": {
        "id": "142752ec"
      },
      "source": [
        "### Histogram"
      ]
    },
    {
      "cell_type": "code",
      "execution_count": null,
      "id": "07e8262b",
      "metadata": {
        "id": "07e8262b",
        "outputId": "0f3f0a56-791b-4fb1-afa0-9921013f0600"
      },
      "outputs": [
        {
          "data": {
            "text/plain": [
              "<seaborn.axisgrid.FacetGrid at 0x7fd3f837a430>"
            ]
          },
          "execution_count": 16,
          "metadata": {},
          "output_type": "execute_result"
        },
        {
          "data": {
            "image/png": "[encoded data removed]",
            "text/plain": [
              "<Figure size 360x360 with 1 Axes>"
            ]
          },
          "metadata": {
            "needs_background": "light"
          },
          "output_type": "display_data"
        }
      ],
      "source": [
        "sns.displot(data[\"Age\"], color='darkorange')"
      ]
    },
    {
      "cell_type": "code",
      "execution_count": null,
      "id": "675f7424",
      "metadata": {
        "id": "675f7424",
        "outputId": "82bf960a-575c-4aa3-d226-e9764ad5c94c"
      },
      "outputs": [
        {
          "data": {
            "text/plain": [
              "<AxesSubplot:xlabel='Count', ylabel='Age'>"
            ]
          },
          "execution_count": 103,
          "metadata": {},
          "output_type": "execute_result"
        },
        {
          "data": {
            "image/png": "[encoded data removed]",
            "text/plain": [
              "<Figure size 432x288 with 1 Axes>"
            ]
          },
          "metadata": {
            "needs_background": "light"
          },
          "output_type": "display_data"
        }
      ],
      "source": [
        "sns.histplot(y=data.Age,color='pink') "
      ]
    },
    {
      "cell_type": "code",
      "execution_count": null,
      "id": "9fe4745f",
      "metadata": {
        "id": "9fe4745f",
        "outputId": "37a95eb8-66ee-425d-a550-06392e34d824"
      },
      "outputs": [
        {
          "data": {
            "text/plain": [
              "<AxesSubplot:xlabel='Age', ylabel='Count'>"
            ]
          },
          "execution_count": 106,
          "metadata": {},
          "output_type": "execute_result"
        },
        {
          "data": {
            "image/png": "[encoded data removed]",
            "text/plain": [
              "<Figure size 432x288 with 1 Axes>"
            ]
          },
          "metadata": {
            "needs_background": "light"
          },
          "output_type": "display_data"
        }
      ],
      "source": [
        "sns.histplot(x=data.Age,color='green') "
      ]
    },
    {
      "cell_type": "markdown",
      "id": "6ded8880",
      "metadata": {
        "id": "6ded8880"
      },
      "source": [
        "### Boxplot"
      ]
    },
    {
      "cell_type": "code",
      "execution_count": null,
      "id": "f6db3b12",
      "metadata": {
        "id": "f6db3b12",
        "outputId": "de979dbb-e633-4ac4-db6e-1c9d97d717d6"
      },
      "outputs": [
        {
          "data": {
            "text/plain": [
              "<AxesSubplot:xlabel='Age'>"
            ]
          },
          "execution_count": 52,
          "metadata": {},
          "output_type": "execute_result"
        },
        {
          "data": {
            "image/png": "[encoded data removed]",
            "text/plain": [
              "<Figure size 432x288 with 1 Axes>"
            ]
          },
          "metadata": {
            "needs_background": "light"
          },
          "output_type": "display_data"
        }
      ],
      "source": [
        "sns.boxplot(x=data.Age,color='pink') "
      ]
    },
    {
      "cell_type": "markdown",
      "id": "aa135dbe",
      "metadata": {
        "id": "aa135dbe"
      },
      "source": [
        "### Countplot"
      ]
    },
    {
      "cell_type": "code",
      "execution_count": null,
      "id": "bf4b713d",
      "metadata": {
        "id": "bf4b713d",
        "outputId": "9112f807-0fb4-406d-9d15-8d18b4a4f670"
      },
      "outputs": [
        {
          "data": {
            "text/plain": [
              "<AxesSubplot:xlabel='Age', ylabel='count'>"
            ]
          },
          "execution_count": 51,
          "metadata": {},
          "output_type": "execute_result"
        },
        {
          "data": {
            "image/png": "[encoded data removed]",
            "text/plain": [
              "<Figure size 432x288 with 1 Axes>"
            ]
          },
          "metadata": {
            "needs_background": "light"
          },
          "output_type": "display_data"
        }
      ],
      "source": [
        "sns.countplot(x=data.Age) "
      ]
    },
    {
      "cell_type": "markdown",
      "id": "a47aecb0",
      "metadata": {
        "id": "a47aecb0"
      },
      "source": [
        "## (ii) Bi-Variate Analysis"
      ]
    },
    {
      "cell_type": "markdown",
      "id": "bfaa3837",
      "metadata": {
        "id": "bfaa3837"
      },
      "source": [
        "###\n",
        "Image result for bivariate analysis in python It is a methodical statistical technique applied to a pair of variables (features/ attributes) of data to determine the empirical relationship between them. In order words, it is meant to determine any concurrent relations (usually over and above a simple correlation analysis).\n",
        "###"
      ]
    },
    {
      "cell_type": "markdown",
      "id": "54dfda2e",
      "metadata": {
        "id": "54dfda2e"
      },
      "source": [
        "### Barplot"
      ]
    },
    {
      "cell_type": "code",
      "execution_count": null,
      "id": "0242e757",
      "metadata": {
        "id": "0242e757",
        "outputId": "7ea555bb-f457-4089-8ec7-7bd18247fc7a"
      },
      "outputs": [
        {
          "data": {
            "text/plain": [
              "<AxesSubplot:xlabel='Height', ylabel='Age'>"
            ]
          },
          "execution_count": 50,
          "metadata": {},
          "output_type": "execute_result"
        },
        {
          "data": {
            "image/png": "[encoded data removed]",
            "text/plain": [
              "<Figure size 432x288 with 1 Axes>"
            ]
          },
          "metadata": {
            "needs_background": "light"
          },
          "output_type": "display_data"
        }
      ],
      "source": [
        "sns.barplot(x=data.Height,y=data.Age)"
      ]
    },
    {
      "cell_type": "markdown",
      "id": "b6023414",
      "metadata": {
        "id": "b6023414"
      },
      "source": [
        "### Linearplot"
      ]
    },
    {
      "cell_type": "code",
      "execution_count": null,
      "id": "a3f0d402",
      "metadata": {
        "id": "a3f0d402",
        "outputId": "228c4004-4b32-435f-9e1a-e20f1d716fb3"
      },
      "outputs": [
        {
          "data": {
            "text/plain": [
              "<AxesSubplot:xlabel='Age', ylabel='Height'>"
            ]
          },
          "execution_count": 49,
          "metadata": {},
          "output_type": "execute_result"
        },
        {
          "data": {
            "image/png": "[encoded data removed]",
            "text/plain": [
              "<Figure size 432x288 with 1 Axes>"
            ]
          },
          "metadata": {
            "needs_background": "light"
          },
          "output_type": "display_data"
        }
      ],
      "source": [
        "sns.lineplot(x=data.Age,y=data.Height, color='purple')"
      ]
    },
    {
      "cell_type": "markdown",
      "id": "3aafa218",
      "metadata": {
        "id": "3aafa218"
      },
      "source": [
        "### Scatterplot"
      ]
    },
    {
      "cell_type": "code",
      "execution_count": null,
      "id": "9cc4dfc8",
      "metadata": {
        "id": "9cc4dfc8",
        "outputId": "183a01cb-0bd4-4354-f583-59d341f00b3a"
      },
      "outputs": [
        {
          "data": {
            "text/plain": [
              "<AxesSubplot:xlabel='Age', ylabel='Height'>"
            ]
          },
          "execution_count": 42,
          "metadata": {},
          "output_type": "execute_result"
        },
        {
          "data": {
            "image/png": "[encoded data removed]",
            "text/plain": [
              "<Figure size 432x288 with 1 Axes>"
            ]
          },
          "metadata": {
            "needs_background": "light"
          },
          "output_type": "display_data"
        }
      ],
      "source": [
        "sns.scatterplot(x=data.Age,y=data.Height,color='green')"
      ]
    },
    {
      "cell_type": "markdown",
      "id": "2f29b464",
      "metadata": {
        "id": "2f29b464"
      },
      "source": [
        "### Pointplot"
      ]
    },
    {
      "cell_type": "code",
      "execution_count": null,
      "id": "42efad17",
      "metadata": {
        "id": "42efad17",
        "outputId": "b25426a9-c41f-46c5-a112-354b82364fc6"
      },
      "outputs": [
        {
          "data": {
            "text/plain": [
              "<AxesSubplot:xlabel='Age', ylabel='Height'>"
            ]
          },
          "execution_count": 45,
          "metadata": {},
          "output_type": "execute_result"
        },
        {
          "data": {
            "image/png": "[encoded data removed]",
            "text/plain": [
              "<Figure size 432x288 with 1 Axes>"
            ]
          },
          "metadata": {
            "needs_background": "light"
          },
          "output_type": "display_data"
        }
      ],
      "source": [
        "sns.pointplot(x=data.Age, y=data.Height, color=\"blue\") "
      ]
    },
    {
      "cell_type": "markdown",
      "id": "bec362c8",
      "metadata": {
        "id": "bec362c8"
      },
      "source": [
        "### Regplot"
      ]
    },
    {
      "cell_type": "code",
      "execution_count": null,
      "id": "49a5a4d9",
      "metadata": {
        "id": "49a5a4d9",
        "outputId": "ab158381-f12e-46bc-cefb-0bf89334517d"
      },
      "outputs": [
        {
          "data": {
            "text/plain": [
              "<AxesSubplot:xlabel='Age', ylabel='Height'>"
            ]
          },
          "execution_count": 48,
          "metadata": {},
          "output_type": "execute_result"
        },
        {
          "data": {
            "image/png": "[encoded data removed]",
            "text/plain": [
              "<Figure size 432x288 with 1 Axes>"
            ]
          },
          "metadata": {
            "needs_background": "light"
          },
          "output_type": "display_data"
        }
      ],
      "source": [
        "sns.regplot(x=data.Age,y=data.Height,color='orange') "
      ]
    },
    {
      "cell_type": "markdown",
      "id": "584e9018",
      "metadata": {
        "id": "584e9018"
      },
      "source": [
        "## (iii) Multi-Variate Analysis"
      ]
    },
    {
      "cell_type": "markdown",
      "id": "b4684aaf",
      "metadata": {
        "id": "b4684aaf"
      },
      "source": [
        "###\n",
        "Multivariate analysis is based in observation and analysis of more than one statistical outcome variable at a time. In design and analysis, the technique is used to perform trade studies across multiple dimensions while taking into account the effects of all variables on the responses of interest.\n",
        "###"
      ]
    },
    {
      "cell_type": "markdown",
      "id": "20a4698d",
      "metadata": {
        "id": "20a4698d"
      },
      "source": [
        "### Pairplot"
      ]
    },
    {
      "cell_type": "code",
      "execution_count": null,
      "id": "f0bc6d30",
      "metadata": {
        "id": "f0bc6d30"
      },
      "outputs": [],
      "source": [
        "sns.pairplot(data=data[[\"Height\",\"Length\",\"Diameter\",\"Age\",\"Whole_weight\",\"Shucked_weight\",\"Viscera_weight\",\"Shell_weight\"]],kind=\"kde\")"
      ]
    },
    {
      "cell_type": "markdown",
      "id": "214490c6",
      "metadata": {
        "id": "214490c6"
      },
      "source": [
        "## 4. Perform descriptive statistics on the dataset"
      ]
    },
    {
      "cell_type": "code",
      "execution_count": null,
      "id": "1cf55692",
      "metadata": {
        "id": "1cf55692",
        "outputId": "279965fe-8862-49a9-ba55-3343930c46dd"
      },
      "outputs": [
        {
          "data": {
            "text/html": [
              "<div>\n",
              "<style scoped>\n",
              "    .dataframe tbody tr th:only-of-type {\n",
              "        vertical-align: middle;\n",
              "    }\n",
              "\n",
              "    .dataframe tbody tr th {\n",
              "        vertical-align: top;\n",
              "    }\n",
              "\n",
              "    .dataframe thead th {\n",
              "        text-align: right;\n",
              "    }\n",
              "</style>\n",
              "<table border=\"1\" class=\"dataframe\">\n",
              "  <thead>\n",
              "    <tr style=\"text-align: right;\">\n",
              "      <th></th>\n",
              "      <th>Sex</th>\n",
              "      <th>Length</th>\n",
              "      <th>Diameter</th>\n",
              "      <th>Height</th>\n",
              "      <th>Whole_weight</th>\n",
              "      <th>Shucked_weight</th>\n",
              "      <th>Viscera_weight</th>\n",
              "      <th>Shell_weight</th>\n",
              "      <th>Age</th>\n",
              "    </tr>\n",
              "  </thead>\n",
              "  <tbody>\n",
              "    <tr>\n",
              "      <th>count</th>\n",
              "      <td>4177</td>\n",
              "      <td>4177.000000</td>\n",
              "      <td>4177.000000</td>\n",
              "      <td>4177.000000</td>\n",
              "      <td>4177.000000</td>\n",
              "      <td>4177.000000</td>\n",
              "      <td>4177.000000</td>\n",
              "      <td>4177.000000</td>\n",
              "      <td>4177.000000</td>\n",
              "    </tr>\n",
              "    <tr>\n",
              "      <th>unique</th>\n",
              "      <td>3</td>\n",
              "      <td>NaN</td>\n",
              "      <td>NaN</td>\n",
              "      <td>NaN</td>\n",
              "      <td>NaN</td>\n",
              "      <td>NaN</td>\n",
              "      <td>NaN</td>\n",
              "      <td>NaN</td>\n",
              "      <td>NaN</td>\n",
              "    </tr>\n",
              "    <tr>\n",
              "      <th>top</th>\n",
              "      <td>M</td>\n",
              "      <td>NaN</td>\n",
              "      <td>NaN</td>\n",
              "      <td>NaN</td>\n",
              "      <td>NaN</td>\n",
              "      <td>NaN</td>\n",
              "      <td>NaN</td>\n",
              "      <td>NaN</td>\n",
              "      <td>NaN</td>\n",
              "    </tr>\n",
              "    <tr>\n",
              "      <th>freq</th>\n",
              "      <td>1528</td>\n",
              "      <td>NaN</td>\n",
              "      <td>NaN</td>\n",
              "      <td>NaN</td>\n",
              "      <td>NaN</td>\n",
              "      <td>NaN</td>\n",
              "      <td>NaN</td>\n",
              "      <td>NaN</td>\n",
              "      <td>NaN</td>\n",
              "    </tr>\n",
              "    <tr>\n",
              "      <th>mean</th>\n",
              "      <td>NaN</td>\n",
              "      <td>0.523992</td>\n",
              "      <td>0.407881</td>\n",
              "      <td>0.139516</td>\n",
              "      <td>0.828742</td>\n",
              "      <td>0.359367</td>\n",
              "      <td>0.180594</td>\n",
              "      <td>0.238831</td>\n",
              "      <td>11.433684</td>\n",
              "    </tr>\n",
              "    <tr>\n",
              "      <th>std</th>\n",
              "      <td>NaN</td>\n",
              "      <td>0.120093</td>\n",
              "      <td>0.099240</td>\n",
              "      <td>0.041827</td>\n",
              "      <td>0.490389</td>\n",
              "      <td>0.221963</td>\n",
              "      <td>0.109614</td>\n",
              "      <td>0.139203</td>\n",
              "      <td>3.224169</td>\n",
              "    </tr>\n",
              "    <tr>\n",
              "      <th>min</th>\n",
              "      <td>NaN</td>\n",
              "      <td>0.075000</td>\n",
              "      <td>0.055000</td>\n",
              "      <td>0.000000</td>\n",
              "      <td>0.002000</td>\n",
              "      <td>0.001000</td>\n",
              "      <td>0.000500</td>\n",
              "      <td>0.001500</td>\n",
              "      <td>2.500000</td>\n",
              "    </tr>\n",
              "    <tr>\n",
              "      <th>25%</th>\n",
              "      <td>NaN</td>\n",
              "      <td>0.450000</td>\n",
              "      <td>0.350000</td>\n",
              "      <td>0.115000</td>\n",
              "      <td>0.441500</td>\n",
              "      <td>0.186000</td>\n",
              "      <td>0.093500</td>\n",
              "      <td>0.130000</td>\n",
              "      <td>9.500000</td>\n",
              "    </tr>\n",
              "    <tr>\n",
              "      <th>50%</th>\n",
              "      <td>NaN</td>\n",
              "      <td>0.545000</td>\n",
              "      <td>0.425000</td>\n",
              "      <td>0.140000</td>\n",
              "      <td>0.799500</td>\n",
              "      <td>0.336000</td>\n",
              "      <td>0.171000</td>\n",
              "      <td>0.234000</td>\n",
              "      <td>10.500000</td>\n",
              "    </tr>\n",
              "    <tr>\n",
              "      <th>75%</th>\n",
              "      <td>NaN</td>\n",
              "      <td>0.615000</td>\n",
              "      <td>0.480000</td>\n",
              "      <td>0.165000</td>\n",
              "      <td>1.153000</td>\n",
              "      <td>0.502000</td>\n",
              "      <td>0.253000</td>\n",
              "      <td>0.329000</td>\n",
              "      <td>12.500000</td>\n",
              "    </tr>\n",
              "    <tr>\n",
              "      <th>max</th>\n",
              "      <td>NaN</td>\n",
              "      <td>0.815000</td>\n",
              "      <td>0.650000</td>\n",
              "      <td>1.130000</td>\n",
              "      <td>2.825500</td>\n",
              "      <td>1.488000</td>\n",
              "      <td>0.760000</td>\n",
              "      <td>1.005000</td>\n",
              "      <td>30.500000</td>\n",
              "    </tr>\n",
              "  </tbody>\n",
              "</table>\n",
              "</div>"
            ],
            "text/plain": [
              "         Sex       Length     Diameter       Height  Whole_weight  \\\n",
              "count   4177  4177.000000  4177.000000  4177.000000   4177.000000   \n",
              "unique     3          NaN          NaN          NaN           NaN   \n",
              "top        M          NaN          NaN          NaN           NaN   \n",
              "freq    1528          NaN          NaN          NaN           NaN   \n",
              "mean     NaN     0.523992     0.407881     0.139516      0.828742   \n",
              "std      NaN     0.120093     0.099240     0.041827      0.490389   \n",
              "min      NaN     0.075000     0.055000     0.000000      0.002000   \n",
              "25%      NaN     0.450000     0.350000     0.115000      0.441500   \n",
              "50%      NaN     0.545000     0.425000     0.140000      0.799500   \n",
              "75%      NaN     0.615000     0.480000     0.165000      1.153000   \n",
              "max      NaN     0.815000     0.650000     1.130000      2.825500   \n",
              "\n",
              "        Shucked_weight  Viscera_weight  Shell_weight          Age  \n",
              "count      4177.000000     4177.000000   4177.000000  4177.000000  \n",
              "unique             NaN             NaN           NaN          NaN  \n",
              "top                NaN             NaN           NaN          NaN  \n",
              "freq               NaN             NaN           NaN          NaN  \n",
              "mean          0.359367        0.180594      0.238831    11.433684  \n",
              "std           0.221963        0.109614      0.139203     3.224169  \n",
              "min           0.001000        0.000500      0.001500     2.500000  \n",
              "25%           0.186000        0.093500      0.130000     9.500000  \n",
              "50%           0.336000        0.171000      0.234000    10.500000  \n",
              "75%           0.502000        0.253000      0.329000    12.500000  \n",
              "max           1.488000        0.760000      1.005000    30.500000  "
            ]
          },
          "execution_count": 63,
          "metadata": {},
          "output_type": "execute_result"
        }
      ],
      "source": [
        "data.describe(include='all')"
      ]
    },
    {
      "cell_type": "markdown",
      "id": "0134ca8d",
      "metadata": {
        "id": "0134ca8d"
      },
      "source": [
        "## 5. Check for Missing values and deal with them"
      ]
    },
    {
      "cell_type": "code",
      "execution_count": null,
      "id": "f2896012",
      "metadata": {
        "id": "f2896012",
        "outputId": "4a9a7cf1-f9db-4a91-d786-bf6b68e4f2bc"
      },
      "outputs": [
        {
          "data": {
            "text/plain": [
              "Sex               0\n",
              "Length            0\n",
              "Diameter          0\n",
              "Height            0\n",
              "Whole_weight      0\n",
              "Shucked_weight    0\n",
              "Viscera_weight    0\n",
              "Shell_weight      0\n",
              "Age               0\n",
              "dtype: int64"
            ]
          },
          "execution_count": 64,
          "metadata": {},
          "output_type": "execute_result"
        }
      ],
      "source": [
        "data.isnull().sum()"
      ]
    },
    {
      "cell_type": "markdown",
      "id": "c679d5f7",
      "metadata": {
        "id": "c679d5f7"
      },
      "source": [
        "## 6. Find the outliers and replace them outliers"
      ]
    },
    {
      "cell_type": "code",
      "execution_count": null,
      "id": "f33fda7b",
      "metadata": {
        "id": "f33fda7b",
        "outputId": "65380d1e-d199-48ba-d88c-3a3c3dc204ff"
      },
      "outputs": [
        {
          "data": {
            "text/html": [
              "<div>\n",
              "<style scoped>\n",
              "    .dataframe tbody tr th:only-of-type {\n",
              "        vertical-align: middle;\n",
              "    }\n",
              "\n",
              "    .dataframe tbody tr th {\n",
              "        vertical-align: top;\n",
              "    }\n",
              "\n",
              "    .dataframe thead th {\n",
              "        text-align: right;\n",
              "    }\n",
              "</style>\n",
              "<table border=\"1\" class=\"dataframe\">\n",
              "  <thead>\n",
              "    <tr style=\"text-align: right;\">\n",
              "      <th></th>\n",
              "      <th>Length</th>\n",
              "      <th>Diameter</th>\n",
              "      <th>Height</th>\n",
              "      <th>Whole_weight</th>\n",
              "      <th>Shucked_weight</th>\n",
              "      <th>Viscera_weight</th>\n",
              "      <th>Shell_weight</th>\n",
              "      <th>Age</th>\n",
              "    </tr>\n",
              "  </thead>\n",
              "  <tbody>\n",
              "    <tr>\n",
              "      <th>0.25</th>\n",
              "      <td>0.450</td>\n",
              "      <td>0.35</td>\n",
              "      <td>0.115</td>\n",
              "      <td>0.4415</td>\n",
              "      <td>0.186</td>\n",
              "      <td>0.0935</td>\n",
              "      <td>0.130</td>\n",
              "      <td>9.5</td>\n",
              "    </tr>\n",
              "    <tr>\n",
              "      <th>0.75</th>\n",
              "      <td>0.615</td>\n",
              "      <td>0.48</td>\n",
              "      <td>0.165</td>\n",
              "      <td>1.1530</td>\n",
              "      <td>0.502</td>\n",
              "      <td>0.2530</td>\n",
              "      <td>0.329</td>\n",
              "      <td>12.5</td>\n",
              "    </tr>\n",
              "  </tbody>\n",
              "</table>\n",
              "</div>"
            ],
            "text/plain": [
              "      Length  Diameter  Height  Whole_weight  Shucked_weight  Viscera_weight  \\\n",
              "0.25   0.450      0.35   0.115        0.4415           0.186          0.0935   \n",
              "0.75   0.615      0.48   0.165        1.1530           0.502          0.2530   \n",
              "\n",
              "      Shell_weight   Age  \n",
              "0.25         0.130   9.5  \n",
              "0.75         0.329  12.5  "
            ]
          },
          "execution_count": 65,
          "metadata": {},
          "output_type": "execute_result"
        }
      ],
      "source": [
        "outliers=data.quantile(q=(0.25,0.75))\n",
        "outliers"
      ]
    },
    {
      "cell_type": "code",
      "execution_count": null,
      "id": "81536478",
      "metadata": {
        "id": "81536478",
        "outputId": "fbd8917b-d403-42ca-d48d-9c908959f6c4"
      },
      "outputs": [
        {
          "data": {
            "text/plain": [
              "Length             0.5450\n",
              "Diameter           0.4250\n",
              "Height             0.1400\n",
              "Whole_weight       0.7995\n",
              "Shucked_weight     0.3360\n",
              "Viscera_weight     0.1710\n",
              "Shell_weight       0.2340\n",
              "Age               10.5000\n",
              "dtype: float64"
            ]
          },
          "execution_count": 66,
          "metadata": {},
          "output_type": "execute_result"
        }
      ],
      "source": [
        "a = data.Age.quantile(0.25)\n",
        "b = data.Age.quantile(0.75)\n",
        "c = b - a\n",
        "lower_limit = a - 1.5 * c\n",
        "data.median(numeric_only=True)"
      ]
    },
    {
      "cell_type": "code",
      "execution_count": null,
      "id": "86b23d82",
      "metadata": {
        "id": "86b23d82",
        "outputId": "fcb73d92-5cb1-4fe8-bc69-a484ce28ca2c"
      },
      "outputs": [
        {
          "data": {
            "text/plain": [
              "<AxesSubplot:xlabel='Age'>"
            ]
          },
          "execution_count": 67,
          "metadata": {},
          "output_type": "execute_result"
        },
        {
          "data": {
            "image/png": "[encoded data removed]",
            "text/plain": [
              "<Figure size 432x288 with 1 Axes>"
            ]
          },
          "metadata": {
            "needs_background": "light"
          },
          "output_type": "display_data"
        }
      ],
      "source": [
        "data['Age'] = np.where(data['Age'] < lower_limit, 7, data['Age'])\n",
        "sns.boxplot(x=data.Age,showfliers = False)"
      ]
    },
    {
      "cell_type": "markdown",
      "id": "ebedfa4a",
      "metadata": {
        "id": "ebedfa4a"
      },
      "source": [
        "## 7. Check for Categorical columns and perform encoding"
      ]
    },
    {
      "cell_type": "code",
      "execution_count": null,
      "id": "db91df79",
      "metadata": {
        "id": "db91df79",
        "outputId": "17c4e9c2-95f7-40db-c78a-a4cbc23c8bdb"
      },
      "outputs": [
        {
          "data": {
            "text/html": [
              "<div>\n",
              "<style scoped>\n",
              "    .dataframe tbody tr th:only-of-type {\n",
              "        vertical-align: middle;\n",
              "    }\n",
              "\n",
              "    .dataframe tbody tr th {\n",
              "        vertical-align: top;\n",
              "    }\n",
              "\n",
              "    .dataframe thead th {\n",
              "        text-align: right;\n",
              "    }\n",
              "</style>\n",
              "<table border=\"1\" class=\"dataframe\">\n",
              "  <thead>\n",
              "    <tr style=\"text-align: right;\">\n",
              "      <th></th>\n",
              "      <th>Sex</th>\n",
              "      <th>Length</th>\n",
              "      <th>Diameter</th>\n",
              "      <th>Height</th>\n",
              "      <th>Whole_weight</th>\n",
              "      <th>Shucked_weight</th>\n",
              "      <th>Viscera_weight</th>\n",
              "      <th>Shell_weight</th>\n",
              "      <th>Age</th>\n",
              "    </tr>\n",
              "  </thead>\n",
              "  <tbody>\n",
              "    <tr>\n",
              "      <th>0</th>\n",
              "      <td>M</td>\n",
              "      <td>0.455</td>\n",
              "      <td>0.365</td>\n",
              "      <td>0.095</td>\n",
              "      <td>0.5140</td>\n",
              "      <td>0.2245</td>\n",
              "      <td>0.1010</td>\n",
              "      <td>0.150</td>\n",
              "      <td>16.5</td>\n",
              "    </tr>\n",
              "    <tr>\n",
              "      <th>1</th>\n",
              "      <td>M</td>\n",
              "      <td>0.350</td>\n",
              "      <td>0.265</td>\n",
              "      <td>0.090</td>\n",
              "      <td>0.2255</td>\n",
              "      <td>0.0995</td>\n",
              "      <td>0.0485</td>\n",
              "      <td>0.070</td>\n",
              "      <td>8.5</td>\n",
              "    </tr>\n",
              "    <tr>\n",
              "      <th>2</th>\n",
              "      <td>F</td>\n",
              "      <td>0.530</td>\n",
              "      <td>0.420</td>\n",
              "      <td>0.135</td>\n",
              "      <td>0.6770</td>\n",
              "      <td>0.2565</td>\n",
              "      <td>0.1415</td>\n",
              "      <td>0.210</td>\n",
              "      <td>10.5</td>\n",
              "    </tr>\n",
              "    <tr>\n",
              "      <th>3</th>\n",
              "      <td>M</td>\n",
              "      <td>0.440</td>\n",
              "      <td>0.365</td>\n",
              "      <td>0.125</td>\n",
              "      <td>0.5160</td>\n",
              "      <td>0.2155</td>\n",
              "      <td>0.1140</td>\n",
              "      <td>0.155</td>\n",
              "      <td>11.5</td>\n",
              "    </tr>\n",
              "    <tr>\n",
              "      <th>4</th>\n",
              "      <td>I</td>\n",
              "      <td>0.330</td>\n",
              "      <td>0.255</td>\n",
              "      <td>0.080</td>\n",
              "      <td>0.2050</td>\n",
              "      <td>0.0895</td>\n",
              "      <td>0.0395</td>\n",
              "      <td>0.055</td>\n",
              "      <td>8.5</td>\n",
              "    </tr>\n",
              "  </tbody>\n",
              "</table>\n",
              "</div>"
            ],
            "text/plain": [
              "  Sex  Length  Diameter  Height  Whole_weight  Shucked_weight  Viscera_weight  \\\n",
              "0   M   0.455     0.365   0.095        0.5140          0.2245          0.1010   \n",
              "1   M   0.350     0.265   0.090        0.2255          0.0995          0.0485   \n",
              "2   F   0.530     0.420   0.135        0.6770          0.2565          0.1415   \n",
              "3   M   0.440     0.365   0.125        0.5160          0.2155          0.1140   \n",
              "4   I   0.330     0.255   0.080        0.2050          0.0895          0.0395   \n",
              "\n",
              "   Shell_weight   Age  \n",
              "0         0.150  16.5  \n",
              "1         0.070   8.5  \n",
              "2         0.210  10.5  \n",
              "3         0.155  11.5  \n",
              "4         0.055   8.5  "
            ]
          },
          "execution_count": 68,
          "metadata": {},
          "output_type": "execute_result"
        }
      ],
      "source": [
        "data.head()"
      ]
    },
    {
      "cell_type": "code",
      "execution_count": null,
      "id": "572c470f",
      "metadata": {
        "id": "572c470f",
        "outputId": "9090560b-85de-4857-93f0-e7b82c94a84d"
      },
      "outputs": [
        {
          "data": {
            "text/html": [
              "<div>\n",
              "<style scoped>\n",
              "    .dataframe tbody tr th:only-of-type {\n",
              "        vertical-align: middle;\n",
              "    }\n",
              "\n",
              "    .dataframe tbody tr th {\n",
              "        vertical-align: top;\n",
              "    }\n",
              "\n",
              "    .dataframe thead th {\n",
              "        text-align: right;\n",
              "    }\n",
              "</style>\n",
              "<table border=\"1\" class=\"dataframe\">\n",
              "  <thead>\n",
              "    <tr style=\"text-align: right;\">\n",
              "      <th></th>\n",
              "      <th>Sex</th>\n",
              "      <th>Length</th>\n",
              "      <th>Diameter</th>\n",
              "      <th>Height</th>\n",
              "      <th>Whole_weight</th>\n",
              "      <th>Shucked_weight</th>\n",
              "      <th>Viscera_weight</th>\n",
              "      <th>Shell_weight</th>\n",
              "      <th>Age</th>\n",
              "    </tr>\n",
              "  </thead>\n",
              "  <tbody>\n",
              "    <tr>\n",
              "      <th>0</th>\n",
              "      <td>2</td>\n",
              "      <td>0.455</td>\n",
              "      <td>0.365</td>\n",
              "      <td>0.095</td>\n",
              "      <td>0.5140</td>\n",
              "      <td>0.2245</td>\n",
              "      <td>0.1010</td>\n",
              "      <td>0.150</td>\n",
              "      <td>12</td>\n",
              "    </tr>\n",
              "    <tr>\n",
              "      <th>1</th>\n",
              "      <td>2</td>\n",
              "      <td>0.350</td>\n",
              "      <td>0.265</td>\n",
              "      <td>0.090</td>\n",
              "      <td>0.2255</td>\n",
              "      <td>0.0995</td>\n",
              "      <td>0.0485</td>\n",
              "      <td>0.070</td>\n",
              "      <td>4</td>\n",
              "    </tr>\n",
              "    <tr>\n",
              "      <th>2</th>\n",
              "      <td>0</td>\n",
              "      <td>0.530</td>\n",
              "      <td>0.420</td>\n",
              "      <td>0.135</td>\n",
              "      <td>0.6770</td>\n",
              "      <td>0.2565</td>\n",
              "      <td>0.1415</td>\n",
              "      <td>0.210</td>\n",
              "      <td>6</td>\n",
              "    </tr>\n",
              "    <tr>\n",
              "      <th>3</th>\n",
              "      <td>2</td>\n",
              "      <td>0.440</td>\n",
              "      <td>0.365</td>\n",
              "      <td>0.125</td>\n",
              "      <td>0.5160</td>\n",
              "      <td>0.2155</td>\n",
              "      <td>0.1140</td>\n",
              "      <td>0.155</td>\n",
              "      <td>7</td>\n",
              "    </tr>\n",
              "    <tr>\n",
              "      <th>4</th>\n",
              "      <td>1</td>\n",
              "      <td>0.330</td>\n",
              "      <td>0.255</td>\n",
              "      <td>0.080</td>\n",
              "      <td>0.2050</td>\n",
              "      <td>0.0895</td>\n",
              "      <td>0.0395</td>\n",
              "      <td>0.055</td>\n",
              "      <td>4</td>\n",
              "    </tr>\n",
              "  </tbody>\n",
              "</table>\n",
              "</div>"
            ],
            "text/plain": [
              "   Sex  Length  Diameter  Height  Whole_weight  Shucked_weight  \\\n",
              "0    2   0.455     0.365   0.095        0.5140          0.2245   \n",
              "1    2   0.350     0.265   0.090        0.2255          0.0995   \n",
              "2    0   0.530     0.420   0.135        0.6770          0.2565   \n",
              "3    2   0.440     0.365   0.125        0.5160          0.2155   \n",
              "4    1   0.330     0.255   0.080        0.2050          0.0895   \n",
              "\n",
              "   Viscera_weight  Shell_weight  Age  \n",
              "0          0.1010         0.150   12  \n",
              "1          0.0485         0.070    4  \n",
              "2          0.1415         0.210    6  \n",
              "3          0.1140         0.155    7  \n",
              "4          0.0395         0.055    4  "
            ]
          },
          "execution_count": 83,
          "metadata": {},
          "output_type": "execute_result"
        }
      ],
      "source": [
        "from sklearn.preprocessing import LabelEncoder\n",
        "\n",
        "lab = LabelEncoder()\n",
        "data.Sex = lab.fit_transform(data.Sex)\n",
        "\n",
        "data.head()"
      ]
    },
    {
      "cell_type": "markdown",
      "id": "88da66db",
      "metadata": {
        "id": "88da66db"
      },
      "source": [
        "## 8. Split the data into dependent and independent variables"
      ]
    },
    {
      "cell_type": "code",
      "execution_count": null,
      "id": "ec0cc186",
      "metadata": {
        "id": "ec0cc186",
        "outputId": "00bc6cd2-0c91-42b1-bd0f-459c95822e49"
      },
      "outputs": [
        {
          "data": {
            "text/plain": [
              "0    2\n",
              "1    2\n",
              "2    0\n",
              "3    2\n",
              "4    1\n",
              "Name: Sex, dtype: int64"
            ]
          },
          "execution_count": 84,
          "metadata": {},
          "output_type": "execute_result"
        }
      ],
      "source": [
        "y = data[\"Sex\"]\n",
        "y.head()"
      ]
    },
    {
      "cell_type": "code",
      "execution_count": null,
      "id": "39515d7b",
      "metadata": {
        "id": "39515d7b",
        "outputId": "7dab981d-5126-4850-871b-64f42fefb5c2"
      },
      "outputs": [
        {
          "data": {
            "text/html": [
              "<div>\n",
              "<style scoped>\n",
              "    .dataframe tbody tr th:only-of-type {\n",
              "        vertical-align: middle;\n",
              "    }\n",
              "\n",
              "    .dataframe tbody tr th {\n",
              "        vertical-align: top;\n",
              "    }\n",
              "\n",
              "    .dataframe thead th {\n",
              "        text-align: right;\n",
              "    }\n",
              "</style>\n",
              "<table border=\"1\" class=\"dataframe\">\n",
              "  <thead>\n",
              "    <tr style=\"text-align: right;\">\n",
              "      <th></th>\n",
              "      <th>Length</th>\n",
              "      <th>Diameter</th>\n",
              "      <th>Height</th>\n",
              "      <th>Whole_weight</th>\n",
              "      <th>Shucked_weight</th>\n",
              "      <th>Viscera_weight</th>\n",
              "      <th>Shell_weight</th>\n",
              "      <th>Age</th>\n",
              "    </tr>\n",
              "  </thead>\n",
              "  <tbody>\n",
              "    <tr>\n",
              "      <th>0</th>\n",
              "      <td>0.455</td>\n",
              "      <td>0.365</td>\n",
              "      <td>0.095</td>\n",
              "      <td>0.5140</td>\n",
              "      <td>0.2245</td>\n",
              "      <td>0.1010</td>\n",
              "      <td>0.150</td>\n",
              "      <td>12</td>\n",
              "    </tr>\n",
              "    <tr>\n",
              "      <th>1</th>\n",
              "      <td>0.350</td>\n",
              "      <td>0.265</td>\n",
              "      <td>0.090</td>\n",
              "      <td>0.2255</td>\n",
              "      <td>0.0995</td>\n",
              "      <td>0.0485</td>\n",
              "      <td>0.070</td>\n",
              "      <td>4</td>\n",
              "    </tr>\n",
              "    <tr>\n",
              "      <th>2</th>\n",
              "      <td>0.530</td>\n",
              "      <td>0.420</td>\n",
              "      <td>0.135</td>\n",
              "      <td>0.6770</td>\n",
              "      <td>0.2565</td>\n",
              "      <td>0.1415</td>\n",
              "      <td>0.210</td>\n",
              "      <td>6</td>\n",
              "    </tr>\n",
              "    <tr>\n",
              "      <th>3</th>\n",
              "      <td>0.440</td>\n",
              "      <td>0.365</td>\n",
              "      <td>0.125</td>\n",
              "      <td>0.5160</td>\n",
              "      <td>0.2155</td>\n",
              "      <td>0.1140</td>\n",
              "      <td>0.155</td>\n",
              "      <td>7</td>\n",
              "    </tr>\n",
              "    <tr>\n",
              "      <th>4</th>\n",
              "      <td>0.330</td>\n",
              "      <td>0.255</td>\n",
              "      <td>0.080</td>\n",
              "      <td>0.2050</td>\n",
              "      <td>0.0895</td>\n",
              "      <td>0.0395</td>\n",
              "      <td>0.055</td>\n",
              "      <td>4</td>\n",
              "    </tr>\n",
              "  </tbody>\n",
              "</table>\n",
              "</div>"
            ],
            "text/plain": [
              "   Length  Diameter  Height  Whole_weight  Shucked_weight  Viscera_weight  \\\n",
              "0   0.455     0.365   0.095        0.5140          0.2245          0.1010   \n",
              "1   0.350     0.265   0.090        0.2255          0.0995          0.0485   \n",
              "2   0.530     0.420   0.135        0.6770          0.2565          0.1415   \n",
              "3   0.440     0.365   0.125        0.5160          0.2155          0.1140   \n",
              "4   0.330     0.255   0.080        0.2050          0.0895          0.0395   \n",
              "\n",
              "   Shell_weight  Age  \n",
              "0         0.150   12  \n",
              "1         0.070    4  \n",
              "2         0.210    6  \n",
              "3         0.155    7  \n",
              "4         0.055    4  "
            ]
          },
          "execution_count": 85,
          "metadata": {},
          "output_type": "execute_result"
        }
      ],
      "source": [
        "x=data.drop(columns=[\"Sex\"],axis=1)\n",
        "x.head()"
      ]
    },
    {
      "cell_type": "markdown",
      "id": "629e5389",
      "metadata": {
        "id": "629e5389"
      },
      "source": [
        "## 9. Scale the independent variables"
      ]
    },
    {
      "cell_type": "code",
      "execution_count": null,
      "id": "53cb1f52",
      "metadata": {
        "id": "53cb1f52",
        "outputId": "c59e3ac5-3f9e-4242-f3e5-f22c4014466f"
      },
      "outputs": [
        {
          "data": {
            "text/html": [
              "<div>\n",
              "<style scoped>\n",
              "    .dataframe tbody tr th:only-of-type {\n",
              "        vertical-align: middle;\n",
              "    }\n",
              "\n",
              "    .dataframe tbody tr th {\n",
              "        vertical-align: top;\n",
              "    }\n",
              "\n",
              "    .dataframe thead th {\n",
              "        text-align: right;\n",
              "    }\n",
              "</style>\n",
              "<table border=\"1\" class=\"dataframe\">\n",
              "  <thead>\n",
              "    <tr style=\"text-align: right;\">\n",
              "      <th></th>\n",
              "      <th>Length</th>\n",
              "      <th>Diameter</th>\n",
              "      <th>Height</th>\n",
              "      <th>Whole_weight</th>\n",
              "      <th>Shucked_weight</th>\n",
              "      <th>Viscera_weight</th>\n",
              "      <th>Shell_weight</th>\n",
              "      <th>Age</th>\n",
              "    </tr>\n",
              "  </thead>\n",
              "  <tbody>\n",
              "    <tr>\n",
              "      <th>0</th>\n",
              "      <td>-0.574558</td>\n",
              "      <td>-0.432149</td>\n",
              "      <td>-1.064424</td>\n",
              "      <td>-0.641898</td>\n",
              "      <td>-0.607685</td>\n",
              "      <td>-0.726212</td>\n",
              "      <td>-0.638217</td>\n",
              "      <td>1.555152</td>\n",
              "    </tr>\n",
              "    <tr>\n",
              "      <th>1</th>\n",
              "      <td>-1.448986</td>\n",
              "      <td>-1.439929</td>\n",
              "      <td>-1.183978</td>\n",
              "      <td>-1.230277</td>\n",
              "      <td>-1.170910</td>\n",
              "      <td>-1.205221</td>\n",
              "      <td>-1.212987</td>\n",
              "      <td>-0.884841</td>\n",
              "    </tr>\n",
              "    <tr>\n",
              "      <th>2</th>\n",
              "      <td>0.050033</td>\n",
              "      <td>0.122130</td>\n",
              "      <td>-0.107991</td>\n",
              "      <td>-0.309469</td>\n",
              "      <td>-0.463500</td>\n",
              "      <td>-0.356690</td>\n",
              "      <td>-0.207139</td>\n",
              "      <td>-0.274842</td>\n",
              "    </tr>\n",
              "    <tr>\n",
              "      <th>3</th>\n",
              "      <td>-0.699476</td>\n",
              "      <td>-0.432149</td>\n",
              "      <td>-0.347099</td>\n",
              "      <td>-0.637819</td>\n",
              "      <td>-0.648238</td>\n",
              "      <td>-0.607600</td>\n",
              "      <td>-0.602294</td>\n",
              "      <td>0.030157</td>\n",
              "    </tr>\n",
              "    <tr>\n",
              "      <th>4</th>\n",
              "      <td>-1.615544</td>\n",
              "      <td>-1.540707</td>\n",
              "      <td>-1.423087</td>\n",
              "      <td>-1.272086</td>\n",
              "      <td>-1.215968</td>\n",
              "      <td>-1.287337</td>\n",
              "      <td>-1.320757</td>\n",
              "      <td>-0.884841</td>\n",
              "    </tr>\n",
              "  </tbody>\n",
              "</table>\n",
              "</div>"
            ],
            "text/plain": [
              "     Length  Diameter    Height  Whole_weight  Shucked_weight  Viscera_weight  \\\n",
              "0 -0.574558 -0.432149 -1.064424     -0.641898       -0.607685       -0.726212   \n",
              "1 -1.448986 -1.439929 -1.183978     -1.230277       -1.170910       -1.205221   \n",
              "2  0.050033  0.122130 -0.107991     -0.309469       -0.463500       -0.356690   \n",
              "3 -0.699476 -0.432149 -0.347099     -0.637819       -0.648238       -0.607600   \n",
              "4 -1.615544 -1.540707 -1.423087     -1.272086       -1.215968       -1.287337   \n",
              "\n",
              "   Shell_weight       Age  \n",
              "0     -0.638217  1.555152  \n",
              "1     -1.212987 -0.884841  \n",
              "2     -0.207139 -0.274842  \n",
              "3     -0.602294  0.030157  \n",
              "4     -1.320757 -0.884841  "
            ]
          },
          "execution_count": 86,
          "metadata": {},
          "output_type": "execute_result"
        }
      ],
      "source": [
        "from sklearn.preprocessing import scale\n",
        "X_Scaled = pd.DataFrame(scale(x), columns=x.columns)\n",
        "X_Scaled.head()"
      ]
    },
    {
      "cell_type": "markdown",
      "id": "d570069c",
      "metadata": {
        "id": "d570069c"
      },
      "source": [
        "## 10. Split the data into training and testing"
      ]
    },
    {
      "cell_type": "code",
      "execution_count": null,
      "id": "3c8093c8",
      "metadata": {
        "id": "3c8093c8"
      },
      "outputs": [],
      "source": [
        "from sklearn.model_selection import train_test_split\n",
        "X_Train, X_Test, Y_Train, Y_Test = train_test_split(X_Scaled, y, test_size=0.2, random_state=0)"
      ]
    },
    {
      "cell_type": "code",
      "execution_count": null,
      "id": "f78304bc",
      "metadata": {
        "id": "f78304bc",
        "outputId": "78530949-ab23-4878-e4ba-b70f22435d9f"
      },
      "outputs": [
        {
          "data": {
            "text/plain": [
              "((3341, 8), (836, 8))"
            ]
          },
          "execution_count": 88,
          "metadata": {},
          "output_type": "execute_result"
        }
      ],
      "source": [
        "X_Train.shape,X_Test.shape"
      ]
    },
    {
      "cell_type": "code",
      "execution_count": null,
      "id": "5736eb23",
      "metadata": {
        "id": "5736eb23",
        "outputId": "92d1ea63-5eed-49b8-e36c-b9233791d7bf"
      },
      "outputs": [
        {
          "data": {
            "text/plain": [
              "((3341,), (836,))"
            ]
          },
          "execution_count": 89,
          "metadata": {},
          "output_type": "execute_result"
        }
      ],
      "source": [
        "Y_Train.shape,Y_Test.shape"
      ]
    },
    {
      "cell_type": "code",
      "execution_count": null,
      "id": "30871571",
      "metadata": {
        "id": "30871571",
        "outputId": "a20ba6de-87f0-45e9-df7b-101db3ebdecd"
      },
      "outputs": [
        {
          "data": {
            "text/html": [
              "<div>\n",
              "<style scoped>\n",
              "    .dataframe tbody tr th:only-of-type {\n",
              "        vertical-align: middle;\n",
              "    }\n",
              "\n",
              "    .dataframe tbody tr th {\n",
              "        vertical-align: top;\n",
              "    }\n",
              "\n",
              "    .dataframe thead th {\n",
              "        text-align: right;\n",
              "    }\n",
              "</style>\n",
              "<table border=\"1\" class=\"dataframe\">\n",
              "  <thead>\n",
              "    <tr style=\"text-align: right;\">\n",
              "      <th></th>\n",
              "      <th>Length</th>\n",
              "      <th>Diameter</th>\n",
              "      <th>Height</th>\n",
              "      <th>Whole_weight</th>\n",
              "      <th>Shucked_weight</th>\n",
              "      <th>Viscera_weight</th>\n",
              "      <th>Shell_weight</th>\n",
              "      <th>Age</th>\n",
              "    </tr>\n",
              "  </thead>\n",
              "  <tbody>\n",
              "    <tr>\n",
              "      <th>3141</th>\n",
              "      <td>-2.864726</td>\n",
              "      <td>-2.750043</td>\n",
              "      <td>-1.423087</td>\n",
              "      <td>-1.622870</td>\n",
              "      <td>-1.553902</td>\n",
              "      <td>-1.583867</td>\n",
              "      <td>-1.644065</td>\n",
              "      <td>-1.799838</td>\n",
              "    </tr>\n",
              "    <tr>\n",
              "      <th>3521</th>\n",
              "      <td>-2.573250</td>\n",
              "      <td>-2.598876</td>\n",
              "      <td>-2.020857</td>\n",
              "      <td>-1.606554</td>\n",
              "      <td>-1.551650</td>\n",
              "      <td>-1.565619</td>\n",
              "      <td>-1.626104</td>\n",
              "      <td>-1.494839</td>\n",
              "    </tr>\n",
              "    <tr>\n",
              "      <th>883</th>\n",
              "      <td>1.132658</td>\n",
              "      <td>1.230689</td>\n",
              "      <td>0.728888</td>\n",
              "      <td>1.145672</td>\n",
              "      <td>1.041436</td>\n",
              "      <td>0.286552</td>\n",
              "      <td>1.538726</td>\n",
              "      <td>1.555152</td>\n",
              "    </tr>\n",
              "    <tr>\n",
              "      <th>3627</th>\n",
              "      <td>1.590691</td>\n",
              "      <td>1.180300</td>\n",
              "      <td>1.446213</td>\n",
              "      <td>2.164373</td>\n",
              "      <td>2.661269</td>\n",
              "      <td>2.330326</td>\n",
              "      <td>1.377072</td>\n",
              "      <td>0.030157</td>\n",
              "    </tr>\n",
              "    <tr>\n",
              "      <th>2106</th>\n",
              "      <td>0.591345</td>\n",
              "      <td>0.474853</td>\n",
              "      <td>0.370226</td>\n",
              "      <td>0.432887</td>\n",
              "      <td>0.255175</td>\n",
              "      <td>0.272866</td>\n",
              "      <td>0.906479</td>\n",
              "      <td>1.250153</td>\n",
              "    </tr>\n",
              "  </tbody>\n",
              "</table>\n",
              "</div>"
            ],
            "text/plain": [
              "        Length  Diameter    Height  Whole_weight  Shucked_weight  \\\n",
              "3141 -2.864726 -2.750043 -1.423087     -1.622870       -1.553902   \n",
              "3521 -2.573250 -2.598876 -2.020857     -1.606554       -1.551650   \n",
              "883   1.132658  1.230689  0.728888      1.145672        1.041436   \n",
              "3627  1.590691  1.180300  1.446213      2.164373        2.661269   \n",
              "2106  0.591345  0.474853  0.370226      0.432887        0.255175   \n",
              "\n",
              "      Viscera_weight  Shell_weight       Age  \n",
              "3141       -1.583867     -1.644065 -1.799838  \n",
              "3521       -1.565619     -1.626104 -1.494839  \n",
              "883         0.286552      1.538726  1.555152  \n",
              "3627        2.330326      1.377072  0.030157  \n",
              "2106        0.272866      0.906479  1.250153  "
            ]
          },
          "execution_count": 90,
          "metadata": {},
          "output_type": "execute_result"
        }
      ],
      "source": [
        "X_Train.head()"
      ]
    },
    {
      "cell_type": "code",
      "execution_count": null,
      "id": "fd523932",
      "metadata": {
        "id": "fd523932",
        "outputId": "065e7296-3d5b-4140-d1d6-aa8d1eedfb67"
      },
      "outputs": [
        {
          "data": {
            "text/html": [
              "<div>\n",
              "<style scoped>\n",
              "    .dataframe tbody tr th:only-of-type {\n",
              "        vertical-align: middle;\n",
              "    }\n",
              "\n",
              "    .dataframe tbody tr th {\n",
              "        vertical-align: top;\n",
              "    }\n",
              "\n",
              "    .dataframe thead th {\n",
              "        text-align: right;\n",
              "    }\n",
              "</style>\n",
              "<table border=\"1\" class=\"dataframe\">\n",
              "  <thead>\n",
              "    <tr style=\"text-align: right;\">\n",
              "      <th></th>\n",
              "      <th>Length</th>\n",
              "      <th>Diameter</th>\n",
              "      <th>Height</th>\n",
              "      <th>Whole_weight</th>\n",
              "      <th>Shucked_weight</th>\n",
              "      <th>Viscera_weight</th>\n",
              "      <th>Shell_weight</th>\n",
              "      <th>Age</th>\n",
              "    </tr>\n",
              "  </thead>\n",
              "  <tbody>\n",
              "    <tr>\n",
              "      <th>668</th>\n",
              "      <td>0.216591</td>\n",
              "      <td>0.172519</td>\n",
              "      <td>0.370226</td>\n",
              "      <td>0.181016</td>\n",
              "      <td>-0.368878</td>\n",
              "      <td>0.569396</td>\n",
              "      <td>0.690940</td>\n",
              "      <td>0.945154</td>\n",
              "    </tr>\n",
              "    <tr>\n",
              "      <th>1580</th>\n",
              "      <td>-0.199803</td>\n",
              "      <td>-0.079426</td>\n",
              "      <td>-0.466653</td>\n",
              "      <td>-0.433875</td>\n",
              "      <td>-0.443224</td>\n",
              "      <td>-0.343004</td>\n",
              "      <td>-0.325685</td>\n",
              "      <td>-0.579842</td>\n",
              "    </tr>\n",
              "    <tr>\n",
              "      <th>3784</th>\n",
              "      <td>0.799543</td>\n",
              "      <td>0.726798</td>\n",
              "      <td>0.370226</td>\n",
              "      <td>0.870348</td>\n",
              "      <td>0.755318</td>\n",
              "      <td>1.764639</td>\n",
              "      <td>0.565209</td>\n",
              "      <td>0.335156</td>\n",
              "    </tr>\n",
              "    <tr>\n",
              "      <th>463</th>\n",
              "      <td>-2.531611</td>\n",
              "      <td>-2.447709</td>\n",
              "      <td>-2.020857</td>\n",
              "      <td>-1.579022</td>\n",
              "      <td>-1.522362</td>\n",
              "      <td>-1.538247</td>\n",
              "      <td>-1.572219</td>\n",
              "      <td>-1.799838</td>\n",
              "    </tr>\n",
              "    <tr>\n",
              "      <th>2615</th>\n",
              "      <td>1.007740</td>\n",
              "      <td>0.928354</td>\n",
              "      <td>0.848442</td>\n",
              "      <td>1.390405</td>\n",
              "      <td>1.415417</td>\n",
              "      <td>1.778325</td>\n",
              "      <td>0.996287</td>\n",
              "      <td>0.640155</td>\n",
              "    </tr>\n",
              "  </tbody>\n",
              "</table>\n",
              "</div>"
            ],
            "text/plain": [
              "        Length  Diameter    Height  Whole_weight  Shucked_weight  \\\n",
              "668   0.216591  0.172519  0.370226      0.181016       -0.368878   \n",
              "1580 -0.199803 -0.079426 -0.466653     -0.433875       -0.443224   \n",
              "3784  0.799543  0.726798  0.370226      0.870348        0.755318   \n",
              "463  -2.531611 -2.447709 -2.020857     -1.579022       -1.522362   \n",
              "2615  1.007740  0.928354  0.848442      1.390405        1.415417   \n",
              "\n",
              "      Viscera_weight  Shell_weight       Age  \n",
              "668         0.569396      0.690940  0.945154  \n",
              "1580       -0.343004     -0.325685 -0.579842  \n",
              "3784        1.764639      0.565209  0.335156  \n",
              "463        -1.538247     -1.572219 -1.799838  \n",
              "2615        1.778325      0.996287  0.640155  "
            ]
          },
          "execution_count": 91,
          "metadata": {},
          "output_type": "execute_result"
        }
      ],
      "source": [
        "X_Test.head()"
      ]
    },
    {
      "cell_type": "code",
      "execution_count": null,
      "id": "4d768c20",
      "metadata": {
        "id": "4d768c20",
        "outputId": "5e383ad1-8b08-4932-9e86-e0a341b36915"
      },
      "outputs": [
        {
          "data": {
            "text/plain": [
              "3141    1\n",
              "3521    1\n",
              "883     2\n",
              "3627    2\n",
              "2106    2\n",
              "Name: Sex, dtype: int64"
            ]
          },
          "execution_count": 92,
          "metadata": {},
          "output_type": "execute_result"
        }
      ],
      "source": [
        "Y_Train.head()"
      ]
    },
    {
      "cell_type": "code",
      "execution_count": null,
      "id": "30b40edc",
      "metadata": {
        "id": "30b40edc",
        "outputId": "52fa3222-4ef1-461b-b99a-4dad9b684615"
      },
      "outputs": [
        {
          "data": {
            "text/plain": [
              "668     2\n",
              "1580    1\n",
              "3784    2\n",
              "463     1\n",
              "2615    2\n",
              "Name: Sex, dtype: int64"
            ]
          },
          "execution_count": 93,
          "metadata": {},
          "output_type": "execute_result"
        }
      ],
      "source": [
        "Y_Test.head()"
      ]
    },
    {
      "cell_type": "markdown",
      "id": "8b3257e3",
      "metadata": {
        "id": "8b3257e3"
      },
      "source": [
        "## 11. Build the Model"
      ]
    },
    {
      "cell_type": "code",
      "execution_count": null,
      "id": "4734c702",
      "metadata": {
        "id": "4734c702"
      },
      "outputs": [],
      "source": [
        "from sklearn.ensemble import RandomForestClassifier\n",
        "model = RandomForestClassifier(n_estimators=10,criterion='entropy')"
      ]
    },
    {
      "cell_type": "code",
      "execution_count": null,
      "id": "fa447ad1",
      "metadata": {
        "id": "fa447ad1",
        "outputId": "c8cba62b-86c7-49de-86fa-0c6d0081b00a"
      },
      "outputs": [
        {
          "data": {
            "text/plain": [
              "RandomForestClassifier(criterion='entropy', n_estimators=10)"
            ]
          },
          "execution_count": 95,
          "metadata": {},
          "output_type": "execute_result"
        }
      ],
      "source": [
        "model.fit(X_Train,Y_Train)"
      ]
    },
    {
      "cell_type": "code",
      "execution_count": null,
      "id": "708bdbdb",
      "metadata": {
        "id": "708bdbdb"
      },
      "outputs": [],
      "source": [
        "y_predict = model.predict(X_Test)"
      ]
    },
    {
      "cell_type": "code",
      "execution_count": null,
      "id": "6678d287",
      "metadata": {
        "id": "6678d287"
      },
      "outputs": [],
      "source": [
        "y_predict_train = model.predict(X_Train)"
      ]
    },
    {
      "cell_type": "markdown",
      "id": "eee632bf",
      "metadata": {
        "id": "eee632bf"
      },
      "source": [
        "## 12. Train the Model"
      ]
    },
    {
      "cell_type": "code",
      "execution_count": null,
      "id": "f8ac77b0",
      "metadata": {
        "id": "f8ac77b0"
      },
      "outputs": [],
      "source": [
        "from sklearn.metrics import accuracy_score,confusion_matrix,classification_report"
      ]
    },
    {
      "cell_type": "code",
      "execution_count": null,
      "id": "24959576",
      "metadata": {
        "id": "24959576",
        "outputId": "17ed58d4-aa85-4766-debf-41542a1f095f"
      },
      "outputs": [
        {
          "name": "stdout",
          "output_type": "stream",
          "text": [
            "Training accuracy:  0.9787488775815624\n"
          ]
        }
      ],
      "source": [
        "print('Training accuracy: ',accuracy_score(Y_Train,y_predict_train))"
      ]
    },
    {
      "cell_type": "markdown",
      "id": "2c0d16b7",
      "metadata": {
        "id": "2c0d16b7"
      },
      "source": [
        "## 13.Test the Model"
      ]
    },
    {
      "cell_type": "code",
      "execution_count": null,
      "id": "47402fce",
      "metadata": {
        "id": "47402fce",
        "outputId": "5e6b5537-bfb9-428f-966f-b8f47d7cb3be"
      },
      "outputs": [
        {
          "name": "stdout",
          "output_type": "stream",
          "text": [
            "Testing accuracy:  0.5526315789473685\n"
          ]
        }
      ],
      "source": [
        "print('Testing accuracy: ',accuracy_score(Y_Test,y_predict))"
      ]
    },
    {
      "cell_type": "markdown",
      "id": "9c56960f",
      "metadata": {
        "id": "9c56960f"
      },
      "source": [
        "## 14. Measure the performance using Metrics"
      ]
    },
    {
      "cell_type": "code",
      "execution_count": null,
      "id": "ecc47b97",
      "metadata": {
        "id": "ecc47b97",
        "outputId": "86c13af8-d204-4167-c2f7-aea6f5d2e494"
      },
      "outputs": [
        {
          "data": {
            "text/html": [
              "<div>\n",
              "<style scoped>\n",
              "    .dataframe tbody tr th:only-of-type {\n",
              "        vertical-align: middle;\n",
              "    }\n",
              "\n",
              "    .dataframe tbody tr th {\n",
              "        vertical-align: top;\n",
              "    }\n",
              "\n",
              "    .dataframe thead th {\n",
              "        text-align: right;\n",
              "    }\n",
              "</style>\n",
              "<table border=\"1\" class=\"dataframe\">\n",
              "  <thead>\n",
              "    <tr style=\"text-align: right;\">\n",
              "      <th>col_0</th>\n",
              "      <th>0</th>\n",
              "      <th>1</th>\n",
              "      <th>2</th>\n",
              "    </tr>\n",
              "    <tr>\n",
              "      <th>Sex</th>\n",
              "      <th></th>\n",
              "      <th></th>\n",
              "      <th></th>\n",
              "    </tr>\n",
              "  </thead>\n",
              "  <tbody>\n",
              "    <tr>\n",
              "      <th>0</th>\n",
              "      <td>122</td>\n",
              "      <td>29</td>\n",
              "      <td>98</td>\n",
              "    </tr>\n",
              "    <tr>\n",
              "      <th>1</th>\n",
              "      <td>37</td>\n",
              "      <td>217</td>\n",
              "      <td>37</td>\n",
              "    </tr>\n",
              "    <tr>\n",
              "      <th>2</th>\n",
              "      <td>120</td>\n",
              "      <td>53</td>\n",
              "      <td>123</td>\n",
              "    </tr>\n",
              "  </tbody>\n",
              "</table>\n",
              "</div>"
            ],
            "text/plain": [
              "col_0    0    1    2\n",
              "Sex                 \n",
              "0      122   29   98\n",
              "1       37  217   37\n",
              "2      120   53  123"
            ]
          },
          "execution_count": 101,
          "metadata": {},
          "output_type": "execute_result"
        }
      ],
      "source": [
        "pd.crosstab(Y_Test,y_predict)"
      ]
    },
    {
      "cell_type": "code",
      "execution_count": null,
      "id": "9d1d07de",
      "metadata": {
        "id": "9d1d07de",
        "outputId": "3aa3b06a-077c-4e3f-b820-c1dac87ac24f"
      },
      "outputs": [
        {
          "name": "stdout",
          "output_type": "stream",
          "text": [
            "              precision    recall  f1-score   support\n",
            "\n",
            "           0       0.44      0.49      0.46       249\n",
            "           1       0.73      0.75      0.74       291\n",
            "           2       0.48      0.42      0.44       296\n",
            "\n",
            "    accuracy                           0.55       836\n",
            "   macro avg       0.55      0.55      0.55       836\n",
            "weighted avg       0.55      0.55      0.55       836\n",
            "\n"
          ]
        }
      ],
      "source": [
        "print(classification_report(Y_Test,y_predict))"
      ]
    }
  ],
  "metadata": {
    "kernelspec": {
      "display_name": "Python 3 (ipykernel)",
      "language": "python",
      "name": "python3"
    },
    "language_info": {
      "codemirror_mode": {
        "name": "ipython",
        "version": 3
      },
      "file_extension": ".py",
      "mimetype": "text/x-python",
      "name": "python",
      "nbconvert_exporter": "python",
      "pygments_lexer": "ipython3",
      "version": "3.9.7"
    },
    "colab": {
      "provenance": []
    }
  },
  "nbformat": 4,
  "nbformat_minor": 5
}